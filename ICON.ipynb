{
  "nbformat": 4,
  "nbformat_minor": 0,
  "metadata": {
    "colab": {
      "name": "ICON",
      "provenance": [],
      "collapsed_sections": [],
      "machine_shape": "hm",
      "include_colab_link": true
    },
    "kernelspec": {
      "name": "python3",
      "display_name": "Python 3"
    },
    "language_info": {
      "name": "python"
    },
    "accelerator": "GPU"
  },
  "cells": [
    {
      "cell_type": "markdown",
      "metadata": {
        "id": "view-in-github",
        "colab_type": "text"
      },
      "source": [
        "<a href=\"https://colab.research.google.com/github/cedro3/ICON/blob/master/ICON.ipynb\" target=\"_parent\"><img src=\"https://colab.research.google.com/assets/colab-badge.svg\" alt=\"Open In Colab\"/></a>"
      ]
    },
    {
      "cell_type": "code",
      "source": [
        "#@title セットアップ（30分程度かかります）\n",
        "\n",
        "# get the code of ICON\n",
        "!git clone https://github.com/cedro3/ICON.git\n",
        "\n",
        "# package installation1\n",
        "%cd /content/ICON\n",
        "!bash colab.sh\n",
        "\n",
        "# package installation2\n",
        "%cd /content/ICON/apps\n",
        "! source activate icon && pip install git+https://github.com/NVIDIAGameWorks/kaolin.git\n",
        "! source activate icon && pip install git+https://github.com/YuliangXiu/neural_voxelization_layer.git\n",
        "\n",
        "# data download\n",
        "%cd /content/ICON\n",
        "!bash data_download.sh\n",
        "\n",
        "# difine function\n",
        "# --- display_pic ---\n",
        "import matplotlib.pyplot as plt\n",
        "from PIL import Image\n",
        "import glob\n",
        "import numpy as np\n",
        "import os\n",
        "\n",
        "def display_pic(folder):\n",
        "    from PIL import Image ###\n",
        "    fig = plt.figure(figsize=(30, 60))\n",
        "    files = sorted(glob.glob(folder+'/*.jpg'))\n",
        "    for i, file in enumerate(files):\n",
        "        img = Image.open(file)    \n",
        "        images = np.asarray(img)\n",
        "        ax = fig.add_subplot(10, 5, i+1, xticks=[], yticks=[])\n",
        "        image_plt = np.array(images)\n",
        "        ax.imshow(image_plt)\n",
        "        name = os.path.basename(file)\n",
        "        ax.set_xlabel(name, fontsize=30)               \n",
        "    plt.show()\n",
        "    plt.close()\n",
        "\n",
        "# --- reset_folder ---\n",
        "import shutil\n",
        "\n",
        "def reset_folder(path):\n",
        "    if os.path.isdir(path):\n",
        "      shutil.rmtree(path)\n",
        "    os.makedirs(path,exist_ok=True)"
      ],
      "metadata": {
        "id": "B9kjSIzofhNc"
      },
      "execution_count": null,
      "outputs": []
    },
    {
      "cell_type": "code",
      "source": [
        "#@title サンプル画像の表示\n",
        "display_pic('/content/ICON/examples')"
      ],
      "metadata": {
        "id": "M-BzHFrVSfz2"
      },
      "execution_count": null,
      "outputs": []
    },
    {
      "cell_type": "code",
      "source": [
        "#@title 3Dモデルの作成\n",
        "\n",
        "import shutil\n",
        "picture = '05.jpg' #@param {type:\"string\"}\n",
        "pic_path = '/content/ICON/examples/'+picture\n",
        "reset_folder('/content/ICON/image')\n",
        "shutil.copy(pic_path, '/content/ICON/image/'+picture)\n",
        "\n",
        "%cd /content/ICON/apps\n",
        "!source activate icon && python infer.py -cfg ../configs/icon-filter.yaml -loop_smpl 100 -loop_cloth 0 -colab -gpu 0 -export_video -in_dir ../image\n",
        "# !source activate icon && python infer.py -cfg ../configs/pifu.yaml -loop_smpl 1 -loop_cloth 0 -colab -gpu 0 -export_video -in_dir ../examples\n",
        "# !source activate icon && python infer.py -cfg ../configs/pamir.yaml -loop_smpl 100 -loop_cloth 0 -colab -gpu 0 -export_video -in_dir ../examples\n",
        "\n",
        "# ログ・クリア\n",
        "from IPython.display import clear_output\n",
        "clear_output()\n",
        "\n",
        "# 動画の再生\n",
        "import IPython\n",
        "from IPython.display import Image\n",
        "from IPython.core.display import Video\n",
        "import base64\n",
        "from base64 import b64encode\n",
        "from IPython.display import HTML\n",
        "import os\n",
        "\n",
        "test_id = os.path.splitext(picture)[0]\n",
        "# example_filename \n",
        "video_path = f\"/content/ICON/results/icon-filter/vid/{test_id}_cloth.mp4\"\n",
        "video_display_path = f\"/content/ICON/results/icon-filter/vid/{test_id}_display.mp4\"\n",
        "\n",
        "def video(path):\n",
        "    mp4 = open(path,'rb').read()\n",
        "    data_url = \"data:video/mp4;base64,\" + b64encode(mp4).decode()\n",
        "    return HTML('<video width=700 controls loop> <source src=\"%s\" type=\"video/mp4\"></video>' % data_url)\n",
        "\n",
        "# we cannot play a mp4 video generated by cv2\n",
        "!ffmpeg -i $video_path -vcodec libx264 $video_display_path -y -loglevel quiet\n",
        "video(video_display_path)\n"
      ],
      "metadata": {
        "id": "HTvhzjZbCNMP"
      },
      "execution_count": null,
      "outputs": []
    },
    {
      "cell_type": "code",
      "source": [
        "#@title 動画のダウンロード（chrome用）\n",
        "from google.colab import files\n",
        "files.download(video_display_path)"
      ],
      "metadata": {
        "id": "qyDVzQb5iGMb"
      },
      "execution_count": null,
      "outputs": []
    }
  ]
}